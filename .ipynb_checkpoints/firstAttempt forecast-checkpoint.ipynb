{
 "cells": [
  {
   "cell_type": "code",
   "execution_count": 1,
   "metadata": {},
   "outputs": [
    {
     "name": "stdout",
     "output_type": "stream",
     "text": [
      "Shape aisles: (134, 2)\n",
      "Shape departments: (21, 2)\n",
      "Shape order_products__prior: (32434489, 4)\n",
      "Shape order_products__train: (1384617, 4)\n",
      "Shape orders: (3421083, 7)\n",
      "Shape products: (49688, 4)\n"
     ]
    }
   ],
   "source": [
    "import pandas as pd\n",
    "import numpy as np\n",
    "import xgboost as xgb\n",
    "from sklearn.model_selection import train_test_split\n",
    "\n",
    "%run -i readData.py"
   ]
  },
  {
   "cell_type": "code",
   "execution_count": 2,
   "metadata": {
    "collapsed": true,
    "scrolled": true
   },
   "outputs": [],
   "source": [
    "\n",
    "orderProducts = pd.merge(orders,pd.concat([order_products__prior,order_products__train]),on='order_id',how='left');\n",
    "\n",
    "#Sample products subjekt to eval_set\n",
    "orderProductsEstimation = orderProducts[orderProducts['eval_set']!='prior']\n",
    "orderProductsPrior = orderProducts[orderProducts['eval_set']=='prior']"
   ]
  },
  {
   "cell_type": "code",
   "execution_count": 3,
   "metadata": {
    "collapsed": true
   },
   "outputs": [],
   "source": [
    "#Calculate average order size\n",
    "s = order_products__prior.groupby('order_id').size()\n",
    "mean_order_size= s.mean()"
   ]
  },
  {
   "cell_type": "code",
   "execution_count": null,
   "metadata": {
    "collapsed": true
   },
   "outputs": [],
   "source": []
  },
  {
   "cell_type": "code",
   "execution_count": 4,
   "metadata": {
    "collapsed": true
   },
   "outputs": [],
   "source": [
    "\n",
    "\n",
    "productFeatures = (orderProductsPrior.groupby('product_id',as_index=False)\n",
    "                   .agg({'reordered':['sum','count','mean']})\n",
    "                   \n",
    "                   \n",
    ")\n",
    "#Collapse diminsions to just one\n",
    "productFeatures.columns = [' '.join(col).strip() for col in productFeatures.columns.values]\n",
    "\n",
    "#supply with more descriptive column names\n",
    "productFeatures.rename(columns={'reordered sum' : 'product_reorders',\n",
    "                                'reordered count' : 'product_orders',\n",
    "                                'reordered mean': 'product_reorder_rate'},inplace=True)"
   ]
  },
  {
   "cell_type": "code",
   "execution_count": 5,
   "metadata": {
    "collapsed": true
   },
   "outputs": [],
   "source": [
    "userFeatures = (orderProductsPrior.groupby('user_id',as_index=False)\n",
    "                   .agg({'reordered':['sum','count','mean']}) )\n",
    "#Collapse diminsions to just one\n",
    "userFeatures.columns = [' '.join(col).strip() for col in userFeatures.columns.values]\n",
    "\n",
    "#supply with more descriptive column names\n",
    "userFeatures.rename(columns={'reordered sum' : 'user_reorders',\n",
    "                                'reordered count' : 'user_orders',\n",
    "                                'reordered mean': 'user_reorder_rate'},inplace=True)\n"
   ]
  },
  {
   "cell_type": "code",
   "execution_count": 6,
   "metadata": {
    "collapsed": true,
    "scrolled": true
   },
   "outputs": [],
   "source": [
    "\n",
    "estimationData = pd.merge(orderProductsEstimation,productFeatures,\n",
    "                          on='product_id', how='left')\n",
    "estimationData = pd.merge(estimationData,userFeatures,\n",
    "                          on='user_id', how='left')\n"
   ]
  },
  {
   "cell_type": "code",
   "execution_count": 7,
   "metadata": {
    "collapsed": true
   },
   "outputs": [],
   "source": [
    "#The train set is splittet into test and train. The split is performen by user\n",
    "#Notice that test is not the dataset labelled test in the raw data\n",
    "users = np.unique(orderProducts.loc[orderProducts['eval_set']=='train',['user_id']])\n",
    "trainUsers, testUsers = train_test_split(users, test_size=0.2, random_state=30)"
   ]
  },
  {
   "cell_type": "code",
   "execution_count": 8,
   "metadata": {},
   "outputs": [
    {
     "data": {
      "text/plain": [
       "array([ 53589, 201898, 200568, ...,   4439, 164135,   8375], dtype=uint32)"
      ]
     },
     "execution_count": 8,
     "metadata": {},
     "output_type": "execute_result"
    }
   ],
   "source": [
    "testUsers"
   ]
  },
  {
   "cell_type": "code",
   "execution_count": 9,
   "metadata": {
    "collapsed": true
   },
   "outputs": [],
   "source": [
    "\n",
    "\n",
    "#prepare data that is going to be used for training\n",
    "trainData  = estimationData.loc[estimationData['user_id'].isin(trainUsers)].drop('eval_set',axis=1)"
   ]
  },
  {
   "cell_type": "code",
   "execution_count": null,
   "metadata": {},
   "outputs": [],
   "source": []
  },
  {
   "cell_type": "code",
   "execution_count": 17,
   "metadata": {
    "collapsed": true
   },
   "outputs": [],
   "source": [
    "\n",
    "\n",
    "#testdata is a large dataset combining data for all combination of testuser and products\n",
    "testData = orderProducts[orderProducts['user_id'].isin(testUsers)]\n",
    "testData = pd.merge(testData,userFeatures,on='user_id',how='left')\n",
    "testData = pd.merge(testData,productFeatures,on='product_id',how='left')\n",
    "#Since we aim to score the next order the \"days since prior order\" is not up to data and should \n",
    "#be replaced with the number from the order marked 'train\". Keep in mind the dataset is for scoring\n",
    "\n",
    "daysSince = orders[orders['eval_set']=='train'][['days_since_prior_order','user_id']]\n",
    "testData = pd.merge(testData.drop(['days_since_prior_order'],axis=1),daysSince, on='user_id',how='left')\n"
   ]
  },
  {
   "cell_type": "code",
   "execution_count": null,
   "metadata": {
    "collapsed": true
   },
   "outputs": [],
   "source": []
  },
  {
   "cell_type": "code",
   "execution_count": null,
   "metadata": {
    "collapsed": true
   },
   "outputs": [],
   "source": []
  },
  {
   "cell_type": "code",
   "execution_count": 18,
   "metadata": {
    "collapsed": true
   },
   "outputs": [],
   "source": [
    "#define x variables\n",
    "xCols = ['order_number',\n",
    "         'order_dow',\n",
    "         'order_hour_of_day',\n",
    "         'days_since_prior_order',\n",
    "         'product_reorders',\n",
    "         'product_orders',\n",
    "         'product_reorder_rate',\n",
    "         'user_reorders',\n",
    "         'user_orders',\n",
    "         'user_reorder_rate',]\n",
    "#define y variable         \n",
    "yCol  = ['reordered']"
   ]
  },
  {
   "cell_type": "code",
   "execution_count": null,
   "metadata": {
    "collapsed": true,
    "scrolled": false
   },
   "outputs": [],
   "source": []
  },
  {
   "cell_type": "code",
   "execution_count": 19,
   "metadata": {
    "collapsed": true,
    "scrolled": true
   },
   "outputs": [],
   "source": [
    "trainData = trainData[xCols + yCol]\n",
    "testData  = testData[xCols +  yCol]"
   ]
  },
  {
   "cell_type": "code",
   "execution_count": null,
   "metadata": {
    "collapsed": true
   },
   "outputs": [],
   "source": []
  },
  {
   "cell_type": "code",
   "execution_count": 20,
   "metadata": {
    "collapsed": true
   },
   "outputs": [],
   "source": [
    "del order_products__prior\n",
    "del order_products__train\n",
    "del products,trainUsers\n",
    "del estimationData\n",
    "del productFeatures\n",
    "del userFeatures\n",
    "del orders"
   ]
  },
  {
   "cell_type": "code",
   "execution_count": 21,
   "metadata": {
    "collapsed": true
   },
   "outputs": [],
   "source": [
    "dTrain= xgb.DMatrix(trainData.drop('reordered',axis=1),label=trainData['reordered'])\n"
   ]
  },
  {
   "cell_type": "code",
   "execution_count": 22,
   "metadata": {
    "collapsed": true
   },
   "outputs": [],
   "source": [
    "#Set up parameters for xgboost\n",
    "xgParam = {\n",
    "    'booster' : \"gbtree\", \n",
    "    'objective': 'reg:logistic',\n",
    "    'eval_metric': 'logloss',\n",
    "    'max_depth':8,\n",
    "    'silent ':0\n",
    "    \n",
    "}\n",
    "numRound = 40"
   ]
  },
  {
   "cell_type": "code",
   "execution_count": 23,
   "metadata": {
    "collapsed": true
   },
   "outputs": [],
   "source": [
    "bst = xgb.train(xgParam, dTrain, numRound)"
   ]
  },
  {
   "cell_type": "code",
   "execution_count": 24,
   "metadata": {
    "collapsed": true
   },
   "outputs": [],
   "source": [
    "del dTrain, trainData"
   ]
  },
  {
   "cell_type": "code",
   "execution_count": 25,
   "metadata": {
    "collapsed": true
   },
   "outputs": [],
   "source": [
    "dTest = xgb.DMatrix(testData.drop('reordered',axis=1),label=testData['reordered'])"
   ]
  },
  {
   "cell_type": "code",
   "execution_count": 26,
   "metadata": {
    "collapsed": true
   },
   "outputs": [],
   "source": [
    "preds = bst.predict(dTest)"
   ]
  },
  {
   "cell_type": "code",
   "execution_count": 39,
   "metadata": {},
   "outputs": [],
   "source": [
    "\n",
    "#from the sample mean an average order size of 10 is picked\n",
    "numTestuser = testUsers.shape[0]\n",
    "percent = numTestuser*mean_order_size/preds.shape[0]\n",
    "threshold = np.percentile(preds,percent)"
   ]
  },
  {
   "cell_type": "code",
   "execution_count": 41,
   "metadata": {},
   "outputs": [
    {
     "data": {
      "text/plain": [
       "array([ True,  True,  True, ...,  True,  True,  True], dtype=bool)"
      ]
     },
     "execution_count": 41,
     "metadata": {},
     "output_type": "execute_result"
    }
   ],
   "source": [
    "np.array((preds > threshold))"
   ]
  }
 ],
 "metadata": {
  "kernelspec": {
   "display_name": "Python 3",
   "language": "python",
   "name": "python3"
  },
  "language_info": {
   "codemirror_mode": {
    "name": "ipython",
    "version": 3
   },
   "file_extension": ".py",
   "mimetype": "text/x-python",
   "name": "python",
   "nbconvert_exporter": "python",
   "pygments_lexer": "ipython3",
   "version": "3.5.2"
  }
 },
 "nbformat": 4,
 "nbformat_minor": 2
}
